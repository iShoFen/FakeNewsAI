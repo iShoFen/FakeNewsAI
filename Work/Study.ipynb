{
 "cells": [
  {
   "cell_type": "markdown",
   "metadata": {},
   "source": [
    "# Etude Fake News\n",
    "\n",
    "Les données sont stockées dans le dossier 'Data', le but de ce travail est de développer une IA capable de reconnaître\n",
    "les fake news, l'entraîner, la tester et l'amener à la plus haute précision possible."
   ]
  },
  {
   "cell_type": "markdown",
   "metadata": {
    "pycharm": {
     "name": "#%% md\n"
    }
   },
   "source": []
  },
  {
   "cell_type": "code",
   "execution_count": 1,
   "metadata": {
    "gather": {
     "logged": 1639218142362
    },
    "pycharm": {
     "name": "#%%\n"
    }
   },
   "outputs": [],
   "source": [
    "# Utils libs\n",
    "import time\n",
    "import numpy as np\n",
    "import pandas as pd\n",
    "import matplotlib.pyplot as plt\n",
    "import re\n",
    "import nltk\n",
    "from nltk.corpus import stopwords\n",
    "from nltk.stem.porter import PorterStemmer\n",
    "from sklearn.feature_extraction.text import CountVectorizer\n",
    "import pyarrow.feather as ft\n",
    "\n",
    "# AI libs\n",
    "from sklearn.model_selection import train_test_split\n",
    "from sklearn.metrics import accuracy_score\n",
    "from sklearn.linear_model import LogisticRegression\n",
    "from sklearn.tree import DecisionTreeClassifier\n",
    "from sklearn.neighbors import KNeighborsClassifier"
   ]
  },
  {
   "cell_type": "markdown",
   "metadata": {},
   "source": [
    "## Création du dataset de travail"
   ]
  },
  {
   "cell_type": "code",
   "execution_count": 2,
   "metadata": {
    "gather": {
     "logged": 1639141056511
    },
    "pycharm": {
     "name": "#%%\n"
    }
   },
   "outputs": [],
   "source": [
    "fake = pd.read_csv('../Data/Fake.csv', delimiter=',')\n",
    "true = pd.read_csv('../Data/True.csv', delimiter=',')"
   ]
  },
  {
   "cell_type": "markdown",
   "metadata": {},
   "source": [
    "Nous devons maintenant concaténer ces deux DataFrames pour pouvoir les utiliser en tant qu'une seule et même entité.\n",
    "Cependant, nous devons être capable de différencier les news fakes et réelles, nous allons donc rajouter une colonne\n",
    "de booléens 'istrue'."
   ]
  },
  {
   "cell_type": "code",
   "execution_count": 3,
   "metadata": {
    "gather": {
     "logged": 1639141057023
    },
    "pycharm": {
     "name": "#%%\n"
    }
   },
   "outputs": [],
   "source": [
    "fake['istrue'] = 0\n",
    "true['istrue'] = 1\n",
    "\n",
    "data = true.append(fake)"
   ]
  },
  {
   "cell_type": "markdown",
   "metadata": {},
   "source": [
    "Nous avons maintenant un DataFrame complet avec les news réelles et fakes, vérifions dimensions et champs."
   ]
  },
  {
   "cell_type": "code",
   "execution_count": 4,
   "metadata": {
    "gather": {
     "logged": 1639141057115
    },
    "pycharm": {
     "name": "#%%\n"
    }
   },
   "outputs": [
    {
     "name": "stdout",
     "output_type": "stream",
     "text": [
      "(44898, 5)\n"
     ]
    },
    {
     "data": {
      "text/html": [
       "<div>\n",
       "<style scoped>\n",
       "    .dataframe tbody tr th:only-of-type {\n",
       "        vertical-align: middle;\n",
       "    }\n",
       "\n",
       "    .dataframe tbody tr th {\n",
       "        vertical-align: top;\n",
       "    }\n",
       "\n",
       "    .dataframe thead th {\n",
       "        text-align: right;\n",
       "    }\n",
       "</style>\n",
       "<table border=\"1\" class=\"dataframe\">\n",
       "  <thead>\n",
       "    <tr style=\"text-align: right;\">\n",
       "      <th></th>\n",
       "      <th>title</th>\n",
       "      <th>text</th>\n",
       "      <th>subject</th>\n",
       "      <th>date</th>\n",
       "      <th>istrue</th>\n",
       "    </tr>\n",
       "  </thead>\n",
       "  <tbody>\n",
       "    <tr>\n",
       "      <th>0</th>\n",
       "      <td>As U.S. budget fight looms, Republicans flip t...</td>\n",
       "      <td>WASHINGTON (Reuters) - The head of a conservat...</td>\n",
       "      <td>politicsNews</td>\n",
       "      <td>December 31, 2017</td>\n",
       "      <td>1</td>\n",
       "    </tr>\n",
       "    <tr>\n",
       "      <th>1</th>\n",
       "      <td>U.S. military to accept transgender recruits o...</td>\n",
       "      <td>WASHINGTON (Reuters) - Transgender people will...</td>\n",
       "      <td>politicsNews</td>\n",
       "      <td>December 29, 2017</td>\n",
       "      <td>1</td>\n",
       "    </tr>\n",
       "    <tr>\n",
       "      <th>2</th>\n",
       "      <td>Senior U.S. Republican senator: 'Let Mr. Muell...</td>\n",
       "      <td>WASHINGTON (Reuters) - The special counsel inv...</td>\n",
       "      <td>politicsNews</td>\n",
       "      <td>December 31, 2017</td>\n",
       "      <td>1</td>\n",
       "    </tr>\n",
       "    <tr>\n",
       "      <th>3</th>\n",
       "      <td>FBI Russia probe helped by Australian diplomat...</td>\n",
       "      <td>WASHINGTON (Reuters) - Trump campaign adviser ...</td>\n",
       "      <td>politicsNews</td>\n",
       "      <td>December 30, 2017</td>\n",
       "      <td>1</td>\n",
       "    </tr>\n",
       "    <tr>\n",
       "      <th>4</th>\n",
       "      <td>Trump wants Postal Service to charge 'much mor...</td>\n",
       "      <td>SEATTLE/WASHINGTON (Reuters) - President Donal...</td>\n",
       "      <td>politicsNews</td>\n",
       "      <td>December 29, 2017</td>\n",
       "      <td>1</td>\n",
       "    </tr>\n",
       "  </tbody>\n",
       "</table>\n",
       "</div>"
      ],
      "text/plain": [
       "                                               title  \\\n",
       "0  As U.S. budget fight looms, Republicans flip t...   \n",
       "1  U.S. military to accept transgender recruits o...   \n",
       "2  Senior U.S. Republican senator: 'Let Mr. Muell...   \n",
       "3  FBI Russia probe helped by Australian diplomat...   \n",
       "4  Trump wants Postal Service to charge 'much mor...   \n",
       "\n",
       "                                                text       subject  \\\n",
       "0  WASHINGTON (Reuters) - The head of a conservat...  politicsNews   \n",
       "1  WASHINGTON (Reuters) - Transgender people will...  politicsNews   \n",
       "2  WASHINGTON (Reuters) - The special counsel inv...  politicsNews   \n",
       "3  WASHINGTON (Reuters) - Trump campaign adviser ...  politicsNews   \n",
       "4  SEATTLE/WASHINGTON (Reuters) - President Donal...  politicsNews   \n",
       "\n",
       "                 date  istrue  \n",
       "0  December 31, 2017        1  \n",
       "1  December 29, 2017        1  \n",
       "2  December 31, 2017        1  \n",
       "3  December 30, 2017        1  \n",
       "4  December 29, 2017        1  "
      ]
     },
     "execution_count": 4,
     "metadata": {},
     "output_type": "execute_result"
    }
   ],
   "source": [
    "print(data.shape)\n",
    "data.head()"
   ]
  },
  {
   "cell_type": "markdown",
   "metadata": {},
   "source": [
    "## Analyse, nettoyage et réparation des données\n",
    "\n",
    "Maintenant que nous avons le bon dataset, regardons s'il contient des valeurs NULL ou NaN."
   ]
  },
  {
   "cell_type": "code",
   "execution_count": 5,
   "metadata": {
    "gather": {
     "logged": 1639141057206
    },
    "pycharm": {
     "name": "#%%\n"
    }
   },
   "outputs": [
    {
     "name": "stdout",
     "output_type": "stream",
     "text": [
      "title      0\n",
      "text       0\n",
      "subject    0\n",
      "date       0\n",
      "istrue     0\n",
      "dtype: int64\n"
     ]
    }
   ],
   "source": [
    "print(data.isnull().sum())"
   ]
  },
  {
   "cell_type": "markdown",
   "metadata": {},
   "source": [
    "Nous nous rendons compte suite à cette exécution qu'aucune valeur NULL ou NaN ne se trouve dans le dataset, nous n'aurons donc pas à réparer les données, ce qui est une bonne nouvelle.\n",
    "<br>\n",
    "Nous allons maintenant supprimer la colonne dont nous n'aurons pas besoin dans cette étude : date"
   ]
  },
  {
   "cell_type": "code",
   "execution_count": 6,
   "metadata": {
    "gather": {
     "logged": 1639141057312
    },
    "pycharm": {
     "name": "#%%\n"
    }
   },
   "outputs": [
    {
     "data": {
      "text/html": [
       "<div>\n",
       "<style scoped>\n",
       "    .dataframe tbody tr th:only-of-type {\n",
       "        vertical-align: middle;\n",
       "    }\n",
       "\n",
       "    .dataframe tbody tr th {\n",
       "        vertical-align: top;\n",
       "    }\n",
       "\n",
       "    .dataframe thead th {\n",
       "        text-align: right;\n",
       "    }\n",
       "</style>\n",
       "<table border=\"1\" class=\"dataframe\">\n",
       "  <thead>\n",
       "    <tr style=\"text-align: right;\">\n",
       "      <th></th>\n",
       "      <th>title</th>\n",
       "      <th>text</th>\n",
       "      <th>subject</th>\n",
       "      <th>istrue</th>\n",
       "    </tr>\n",
       "  </thead>\n",
       "  <tbody>\n",
       "    <tr>\n",
       "      <th>0</th>\n",
       "      <td>As U.S. budget fight looms, Republicans flip t...</td>\n",
       "      <td>WASHINGTON (Reuters) - The head of a conservat...</td>\n",
       "      <td>politicsNews</td>\n",
       "      <td>1</td>\n",
       "    </tr>\n",
       "    <tr>\n",
       "      <th>1</th>\n",
       "      <td>U.S. military to accept transgender recruits o...</td>\n",
       "      <td>WASHINGTON (Reuters) - Transgender people will...</td>\n",
       "      <td>politicsNews</td>\n",
       "      <td>1</td>\n",
       "    </tr>\n",
       "    <tr>\n",
       "      <th>2</th>\n",
       "      <td>Senior U.S. Republican senator: 'Let Mr. Muell...</td>\n",
       "      <td>WASHINGTON (Reuters) - The special counsel inv...</td>\n",
       "      <td>politicsNews</td>\n",
       "      <td>1</td>\n",
       "    </tr>\n",
       "    <tr>\n",
       "      <th>3</th>\n",
       "      <td>FBI Russia probe helped by Australian diplomat...</td>\n",
       "      <td>WASHINGTON (Reuters) - Trump campaign adviser ...</td>\n",
       "      <td>politicsNews</td>\n",
       "      <td>1</td>\n",
       "    </tr>\n",
       "    <tr>\n",
       "      <th>4</th>\n",
       "      <td>Trump wants Postal Service to charge 'much mor...</td>\n",
       "      <td>SEATTLE/WASHINGTON (Reuters) - President Donal...</td>\n",
       "      <td>politicsNews</td>\n",
       "      <td>1</td>\n",
       "    </tr>\n",
       "  </tbody>\n",
       "</table>\n",
       "</div>"
      ],
      "text/plain": [
       "                                               title  \\\n",
       "0  As U.S. budget fight looms, Republicans flip t...   \n",
       "1  U.S. military to accept transgender recruits o...   \n",
       "2  Senior U.S. Republican senator: 'Let Mr. Muell...   \n",
       "3  FBI Russia probe helped by Australian diplomat...   \n",
       "4  Trump wants Postal Service to charge 'much mor...   \n",
       "\n",
       "                                                text       subject  istrue  \n",
       "0  WASHINGTON (Reuters) - The head of a conservat...  politicsNews       1  \n",
       "1  WASHINGTON (Reuters) - Transgender people will...  politicsNews       1  \n",
       "2  WASHINGTON (Reuters) - The special counsel inv...  politicsNews       1  \n",
       "3  WASHINGTON (Reuters) - Trump campaign adviser ...  politicsNews       1  \n",
       "4  SEATTLE/WASHINGTON (Reuters) - President Donal...  politicsNews       1  "
      ]
     },
     "execution_count": 6,
     "metadata": {},
     "output_type": "execute_result"
    }
   ],
   "source": [
    "data = data.drop(columns='date')\n",
    "data.head()"
   ]
  },
  {
   "cell_type": "markdown",
   "metadata": {},
   "source": [
    "Cependant, nous allons avoir besoin de séparer les contenus des titres en des chaînes de caractères plus simplifiées pour éviter les confusions durant l'exploitation des données.\n",
    "<br>\n",
    "Pour cela, nous aurons besoin des bibliothèques nltk et re, qui contiennent des packages liés aux mots de liaison et aux traitements de chaînes de caractères (notamment le PortStemmer)\n",
    "<br>\n",
    "***Stopwords:***\n",
    "**Un mot de liaison est un mot couramment utilisé (comme \"et\", \"ou\", \"un\", etc) qu'un moteur de recherche a été programmé pour ignorer, que ce soit lors de l'indexation des entrées pour la recherche\n",
    "ou lors de leur récupération en tant que résultat d'une requête de recherche.\n",
    "(https://www.geeksforgeeks.org/removing-stop-words-nltk-python/)**\n",
    "\n",
    "***PortStemmer:***\n",
    "**Un PortStemmer est un algorithme utilisé pour supprimer les terminaisons morphologiques et inflexionnelles les plus courantes des mots.\n",
    "Par exemple, des mots tels que \"Likes\", \"liked\", \"likely\" et \"liking\" seront réduits à \"like\" après le stemming.\n",
    "(https://www.geeksforgeeks.org/python-stemming-words-with-nltk/)**"
   ]
  },
  {
   "cell_type": "code",
   "execution_count": 7,
   "metadata": {
    "gather": {
     "logged": 1639144263954
    },
    "pycharm": {
     "name": "#%%\n"
    }
   },
   "outputs": [
    {
     "name": "stderr",
     "output_type": "stream",
     "text": [
      "[nltk_data] Downloading package stopwords to /Users/adute/nltk_data...\n",
      "[nltk_data]   Package stopwords is already up-to-date!\n"
     ]
    },
    {
     "data": {
      "text/html": [
       "<div>\n",
       "<style scoped>\n",
       "    .dataframe tbody tr th:only-of-type {\n",
       "        vertical-align: middle;\n",
       "    }\n",
       "\n",
       "    .dataframe tbody tr th {\n",
       "        vertical-align: top;\n",
       "    }\n",
       "\n",
       "    .dataframe thead th {\n",
       "        text-align: right;\n",
       "    }\n",
       "</style>\n",
       "<table border=\"1\" class=\"dataframe\">\n",
       "  <thead>\n",
       "    <tr style=\"text-align: right;\">\n",
       "      <th></th>\n",
       "      <th>title</th>\n",
       "      <th>text</th>\n",
       "      <th>subject</th>\n",
       "      <th>istrue</th>\n",
       "    </tr>\n",
       "  </thead>\n",
       "  <tbody>\n",
       "    <tr>\n",
       "      <th>0</th>\n",
       "      <td>u budget fight loom republican flip fiscal script</td>\n",
       "      <td>WASHINGTON (Reuters) - The head of a conservat...</td>\n",
       "      <td>politicsNews</td>\n",
       "      <td>1</td>\n",
       "    </tr>\n",
       "    <tr>\n",
       "      <th>1</th>\n",
       "      <td>u militari accept transgend recruit monday pen...</td>\n",
       "      <td>WASHINGTON (Reuters) - Transgender people will...</td>\n",
       "      <td>politicsNews</td>\n",
       "      <td>1</td>\n",
       "    </tr>\n",
       "    <tr>\n",
       "      <th>2</th>\n",
       "      <td>senior u republican senat let mr mueller job</td>\n",
       "      <td>WASHINGTON (Reuters) - The special counsel inv...</td>\n",
       "      <td>politicsNews</td>\n",
       "      <td>1</td>\n",
       "    </tr>\n",
       "    <tr>\n",
       "      <th>3</th>\n",
       "      <td>fbi russia probe help australian diplomat tip nyt</td>\n",
       "      <td>WASHINGTON (Reuters) - Trump campaign adviser ...</td>\n",
       "      <td>politicsNews</td>\n",
       "      <td>1</td>\n",
       "    </tr>\n",
       "    <tr>\n",
       "      <th>4</th>\n",
       "      <td>trump want postal servic charg much amazon shi...</td>\n",
       "      <td>SEATTLE/WASHINGTON (Reuters) - President Donal...</td>\n",
       "      <td>politicsNews</td>\n",
       "      <td>1</td>\n",
       "    </tr>\n",
       "  </tbody>\n",
       "</table>\n",
       "</div>"
      ],
      "text/plain": [
       "                                               title  \\\n",
       "0  u budget fight loom republican flip fiscal script   \n",
       "1  u militari accept transgend recruit monday pen...   \n",
       "2       senior u republican senat let mr mueller job   \n",
       "3  fbi russia probe help australian diplomat tip nyt   \n",
       "4  trump want postal servic charg much amazon shi...   \n",
       "\n",
       "                                                text       subject  istrue  \n",
       "0  WASHINGTON (Reuters) - The head of a conservat...  politicsNews       1  \n",
       "1  WASHINGTON (Reuters) - Transgender people will...  politicsNews       1  \n",
       "2  WASHINGTON (Reuters) - The special counsel inv...  politicsNews       1  \n",
       "3  WASHINGTON (Reuters) - Trump campaign adviser ...  politicsNews       1  \n",
       "4  SEATTLE/WASHINGTON (Reuters) - President Donal...  politicsNews       1  "
      ]
     },
     "execution_count": 7,
     "metadata": {},
     "output_type": "execute_result"
    }
   ],
   "source": [
    "titles = np.array(data['title'])\n",
    "\n",
    "nltk.download('stopwords')\n",
    "\n",
    "corpustitle = []\n",
    "\n",
    "for i in range (titles.shape[0]):\n",
    "    new = re.sub('[^a-zA-Z]', ' ', titles[i])\n",
    "    # Replaces any string matching the regex with spaces (anything other than a letter)\n",
    "\n",
    "    new = new.lower()\n",
    "\n",
    "    new = new.split()\n",
    "\n",
    "    ps = PorterStemmer()\n",
    "    new = [ps.stem(word) for word in new if not word in set(stopwords.words('english'))]\n",
    "\n",
    "    new = ' '.join(new)\n",
    "\n",
    "    corpustitle.append(new)\n",
    "\n",
    "data['title'] = corpustitle\n",
    "data.head()"
   ]
  },
  {
   "cell_type": "code",
   "execution_count": 40,
   "metadata": {
    "gather": {
     "logged": 1639143840239
    },
    "jupyter": {
     "outputs_hidden": false,
     "source_hidden": false
    },
    "nteract": {
     "transient": {
      "deleting": false
     }
    }
   },
   "outputs": [
    {
     "data": {
      "text/html": [
       "<div>\n",
       "<style scoped>\n",
       "    .dataframe tbody tr th:only-of-type {\n",
       "        vertical-align: middle;\n",
       "    }\n",
       "\n",
       "    .dataframe tbody tr th {\n",
       "        vertical-align: top;\n",
       "    }\n",
       "\n",
       "    .dataframe thead th {\n",
       "        text-align: right;\n",
       "    }\n",
       "</style>\n",
       "<table border=\"1\" class=\"dataframe\">\n",
       "  <thead>\n",
       "    <tr style=\"text-align: right;\">\n",
       "      <th></th>\n",
       "      <th>title</th>\n",
       "      <th>text</th>\n",
       "      <th>subject</th>\n",
       "      <th>istrue</th>\n",
       "    </tr>\n",
       "  </thead>\n",
       "  <tbody>\n",
       "    <tr>\n",
       "      <th>0</th>\n",
       "      <td>u budget fight loom republican flip fiscal script</td>\n",
       "      <td>washington reuter head conserv republican fact...</td>\n",
       "      <td>politicsNews</td>\n",
       "      <td>1</td>\n",
       "    </tr>\n",
       "    <tr>\n",
       "      <th>1</th>\n",
       "      <td>u militari accept transgend recruit monday pen...</td>\n",
       "      <td>washington reuter transgend peopl allow first ...</td>\n",
       "      <td>politicsNews</td>\n",
       "      <td>1</td>\n",
       "    </tr>\n",
       "    <tr>\n",
       "      <th>2</th>\n",
       "      <td>senior u republican senat let mr mueller job</td>\n",
       "      <td>washington reuter special counsel investig lin...</td>\n",
       "      <td>politicsNews</td>\n",
       "      <td>1</td>\n",
       "    </tr>\n",
       "    <tr>\n",
       "      <th>3</th>\n",
       "      <td>fbi russia probe help australian diplomat tip nyt</td>\n",
       "      <td>washington reuter trump campaign advis georg p...</td>\n",
       "      <td>politicsNews</td>\n",
       "      <td>1</td>\n",
       "    </tr>\n",
       "    <tr>\n",
       "      <th>4</th>\n",
       "      <td>trump want postal servic charg much amazon shi...</td>\n",
       "      <td>seattl washington reuter presid donald trump c...</td>\n",
       "      <td>politicsNews</td>\n",
       "      <td>1</td>\n",
       "    </tr>\n",
       "  </tbody>\n",
       "</table>\n",
       "</div>"
      ],
      "text/plain": [
       "                                               title  \\\n",
       "0  u budget fight loom republican flip fiscal script   \n",
       "1  u militari accept transgend recruit monday pen...   \n",
       "2       senior u republican senat let mr mueller job   \n",
       "3  fbi russia probe help australian diplomat tip nyt   \n",
       "4  trump want postal servic charg much amazon shi...   \n",
       "\n",
       "                                                text       subject  istrue  \n",
       "0  washington reuter head conserv republican fact...  politicsNews       1  \n",
       "1  washington reuter transgend peopl allow first ...  politicsNews       1  \n",
       "2  washington reuter special counsel investig lin...  politicsNews       1  \n",
       "3  washington reuter trump campaign advis georg p...  politicsNews       1  \n",
       "4  seattl washington reuter presid donald trump c...  politicsNews       1  "
      ]
     },
     "execution_count": 40,
     "metadata": {},
     "output_type": "execute_result"
    }
   ],
   "source": [
    "text = np.array(data['text'])\n",
    "\n",
    "corpustxt = []\n",
    "\n",
    "for i in range (text.shape[0]):\n",
    "    new = re.sub('[^a-zA-Z]', ' ', text[i])\n",
    "    # Replaces any string matching the regex with spaces (anything other than a letter)\n",
    "\n",
    "    new = new.lower()\n",
    "\n",
    "    new = new.split()\n",
    "\n",
    "    ps = PorterStemmer()\n",
    "    new = [ps.stem(word) for word in new if not word in set(stopwords.words('english'))]\n",
    "\n",
    "    new = ' '.join(new)\n",
    "\n",
    "    corpustxt.append(new)\n",
    "\n",
    "data['text'] = corpustxt\n",
    "data.head()"
   ]
  },
  {
   "cell_type": "code",
   "execution_count": 41,
   "metadata": {
    "gather": {
     "logged": 1639144819716
    },
    "jupyter": {
     "outputs_hidden": false,
     "source_hidden": false
    },
    "nteract": {
     "transient": {
      "deleting": false
     }
    }
   },
   "outputs": [],
   "source": [
    "feather = data.reset_index()\n",
    "ft.write_feather(data, '../Data/datas.feather', compression='zstd')"
   ]
  },
  {
   "cell_type": "markdown",
   "metadata": {},
   "source": [
    "Maintenant que nos titres sont simplifiés, vectorisons-les en utilisant CountVectorizer\n",
    "(fourni par sklearn). Puis testons différents modèles (Régression Logistique, Arbre de décision et KNeighbors) d'apprentissage pour en observer les précisions.\n",
    "<br>\n",
    "***CountVectorizer:***\n",
    "**CountVectorizer est un outil fourni par la bibliothèque scikit-learn. Il est utilisé pour transformer\n",
    "un texte donné en un vecteur sur la base de la fréquence (comptage) de chaque mot qui apparaît\n",
    "dans le texte entier.\n",
    "(https://www.geeksforgeeks.org/using-countvectorizer-to-extracting-features-from-text/)**"
   ]
  },
  {
   "cell_type": "code",
   "execution_count": null,
   "metadata": {},
   "outputs": [],
   "source": [
    "data = pd.read_feather('../Data/datas.feather')\n",
    "\n",
    "countv1 = CountVectorizer(max_features=5000)\n",
    "Xtitle = countv1.fit_transform(data['title']).toarray()\n",
    "\n",
    "countv2 = CountVectorizer(max_features=5000)\n",
    "Xsubject = countv2.fit_transform(data['subject']).toarray()"
   ]
  },
  {
   "cell_type": "markdown",
   "metadata": {},
   "source": [
    "Les vectorisations ci-dessus n'ont pas été utilisées mais étaient prévues pour des essais, nous les avons délaissées car en faisant le test en prenant seulement le texte en compte on obtenait un résultat plus que satisfaisant, nous n'avions donc pas besoin de tester les autres colonnes (ce qui rallongerait le temps d'éxecution inutilement).\n",
    "<br>\n",
    "Nous reprenons donc notre dataframe en le chargeant à partir du fichier feather de sauvegarde."
   ]
  },
  {
   "cell_type": "code",
   "execution_count": null,
   "metadata": {},
   "outputs": [],
   "source": [
    "data = pd.read_feather('../Data/datas.feather')"
   ]
  },
  {
   "cell_type": "code",
   "execution_count": 9,
   "metadata": {
    "pycharm": {
     "name": "#%%\n"
    }
   },
   "outputs": [
    {
     "name": "stdout",
     "output_type": "stream",
     "text": [
      "0.9974387527839643 85\n"
     ]
    },
    {
     "data": {
      "image/png": "[encoded data removed]",
      "text/plain": [
       "<Figure size 432x288 with 1 Axes>"
      ]
     },
     "metadata": {
      "needs_background": "light"
     },
     "output_type": "display_data"
    }
   ],
   "source": [
    "countv = CountVectorizer(max_features=5000)\n",
    "\n",
    "def print_accuracy(accu_r, acc) :\n",
    "    plt.plot(accu_r, acc)\n",
    "    max_accu = max(acc)\n",
    "    print(max_accu, acc.index(max_accu))\n",
    "\n",
    "X = countv.fit_transform(data['text']).toarray()\n",
    "Y = data['istrue'].values\n",
    "\n",
    "accu_range = range(1, 100)\n",
    "accu = []\n",
    "for val in accu_range :\n",
    "    x_svm_train, x_svm_test, y_svm_train, y_svm_test = train_test_split(X, Y, test_size=0.2, random_state=val)\n",
    "    regr = LogisticRegression(random_state=val)\n",
    "    classifier = regr.fit(x_svm_train, y_svm_train)\n",
    "    y_prediction = classifier.predict(x_svm_test)\n",
    "    accu.append(accuracy_score(y_svm_test, y_prediction))\n",
    "\n",
    "print_accuracy(accu_range, accu)"
   ]
  },
  {
   "cell_type": "code",
   "execution_count": 7,
   "metadata": {
    "pycharm": {
     "name": "#%%\n"
    }
   },
   "outputs": [
    {
     "name": "stdout",
     "output_type": "stream",
     "text": [
      "0.9975501113585746 95\n"
     ]
    },
    {
     "data": {
      "image/png": "[encoded data removed]",
      "text/plain": [
       "<Figure size 432x288 with 1 Axes>"
      ]
     },
     "metadata": {
      "needs_background": "light"
     },
     "output_type": "display_data"
    }
   ],
   "source": [
    "accu = []\n",
    "for val in accu_range :\n",
    "    x_svm_train, x_svm_test, y_svm_train, y_svm_test = train_test_split(X, Y, test_size=0.2, random_state=val)\n",
    "    tree = DecisionTreeClassifier(max_depth=val, random_state=val*10)\n",
    "    classifier = tree.fit(x_svm_train, y_svm_train)\n",
    "    y_prediction = classifier.predict(x_svm_test)\n",
    "    accu.append(accuracy_score(y_svm_test, y_prediction))\n",
    "\n",
    "print_accuracy(accu_range, accu)"
   ]
  },
  {
   "cell_type": "code",
   "execution_count": 8,
   "metadata": {
    "pycharm": {
     "name": "#%%\n"
    }
   },
   "outputs": [
    {
     "name": "stdout",
     "output_type": "stream",
     "text": [
      "0.8657015590200445 0\n"
     ]
    },
    {
     "data": {
      "image/png": "[encoded data removed]",
      "text/plain": [
       "<Figure size 432x288 with 1 Axes>"
      ]
     },
     "metadata": {
      "needs_background": "light"
     },
     "output_type": "display_data"
    }
   ],
   "source": [
    "accu = []\n",
    "for val in accu_range :\n",
    "    x_svm_train, x_svm_test, y_svm_train, y_svm_test = train_test_split(X, Y, test_size=0.2, random_state=val)\n",
    "    knn = KNeighborsClassifier(n_neighbors=val)\n",
    "    classifier = knn.fit(x_svm_train, y_svm_train)\n",
    "    y_prediction = classifier.predict(x_svm_test)\n",
    "    accu.append(accuracy_score(y_svm_test, y_prediction))\n",
    "\n",
    "print_accuracy(accu_range, accu)"
   ]
  },
  {
   "cell_type": "markdown",
   "metadata": {
    "pycharm": {
     "name": "#%% md\n"
    }
   },
   "source": [
    "Après essais sur chacun des modèles, nous choisissons la régression logistique de par son adaptation au cas présent.\n",
    "<br>\n",
    "Dans la cellule suivante, nous ne prendrons en compte que le texte des articles (formaté précédemment) par souci de temps et de besoins physiques (RAM et CPU).<br>\n",
    "Nous instancions également une liste de timers et une liste d'accuracy pour pouvoir les afficher en tant que graphes.\n",
    "Après étude des possiblités de modèle les plus efficaces pour notre projet, nous avons choisi la régression logistique.\n",
    "<br>\n",
    "Nous effectuerons donc 100 fois, dans l'ordre :\n",
    "<br>\n",
    "- Une vectorisation pour obtenir un dictionnaire des mots ayant le plus d'occurrences dans les articles (sa taille variera de 1 à 100)\n",
    "- Une séparation des données en deux échantillons (train, 80% et test, 20%)\n",
    "- Le lancement d'un timer\n",
    "- L'entraînement de l'IA\n",
    "- L'arrêt du timer\n",
    "- Le test de l'entraînement de l'IA\n",
    "\n",
    "Enfin, nous afficherons dans un graphe les résultats des timers et de l'accuracy."
   ]
  },
  {
   "cell_type": "code",
   "execution_count": 7,
   "metadata": {
    "pycharm": {
     "name": "#%%\n"
    }
   },
   "outputs": [
    {
     "name": "stdout",
     "output_type": "stream",
     "text": [
      "0.9943207126948775 84\n"
     ]
    },
    {
     "data": {
      "text/plain": [
       "[<matplotlib.lines.Line2D at 0x13e530580>]"
      ]
     },
     "execution_count": 7,
     "metadata": {},
     "output_type": "execute_result"
    },
    {
     "data": {
      "image/png": "[encoded data removed]",
      "text/plain": [
       "<Figure size 432x288 with 1 Axes>"
      ]
     },
     "metadata": {
      "needs_background": "light"
     },
     "output_type": "display_data"
    }
   ],
   "source": [
    "accu = []\n",
    "accu_range = range(1, 100)\n",
    "times = []\n",
    "Y = data['istrue'].values\n",
    "\n",
    "for i in range(1,100):\n",
    "    countv = CountVectorizer(max_features=i)\n",
    "    X2 = countv.fit_transform(data['text']).toarray()\n",
    "    x_train, x_test, y_train, y_test = train_test_split(X2, Y, test_size=0.2, random_state=0)\n",
    "    regr = LogisticRegression(random_state=86)\n",
    "    start_time = time.time()\n",
    "    classifier = regr.fit(x_train, y_train)\n",
    "    times.append(time.time() - start_time)\n",
    "    y_prediction = classifier.predict(x_test)\n",
    "    accu.append(accuracy_score(y_test, y_prediction))\n",
    "\n",
    "print_accuracy(accu_range, accu)\n",
    "plt.plot(accu_range, times)"
   ]
  },
  {
   "cell_type": "markdown",
   "metadata": {
    "pycharm": {
     "name": "#%% md\n"
    }
   },
   "source": [
    "Nous obtenons donc ce graphe bidimensionnel. Clarifions le pour plus de compréhension."
   ]
  },
  {
   "cell_type": "code",
   "execution_count": 9,
   "metadata": {
    "pycharm": {
     "name": "#%%\n"
    }
   },
   "outputs": [
    {
     "data": {
      "text/plain": [
       "Text(0.5, 1.0, \"Temps d'entraînement\")"
      ]
     },
     "execution_count": 9,
     "metadata": {},
     "output_type": "execute_result"
    },
    {
     "data": {
      "image/png": "[encoded data removed]",
      "text/plain": [
       "<Figure size 432x288 with 2 Axes>"
      ]
     },
     "metadata": {
      "needs_background": "light"
     },
     "output_type": "display_data"
    }
   ],
   "source": [
    "plt.subplot(211)\n",
    "plt.plot(accu_range, accu)\n",
    "plt.title(\"Accuracy\")\n",
    "\n",
    "plt.subplot(212)\n",
    "plt.plot(accu_range, times)\n",
    "plt.title(\"Temps d'entraînement\")"
   ]
  },
  {
   "cell_type": "markdown",
   "metadata": {
    "pycharm": {
     "name": "#%% md\n"
    }
   },
   "source": [
    "Bien, maintenant, nous pouvons observer que la précision du modèle ne subit de changements significatifs qu'entre 0 et 20, ce qui signifie qu'un dictionnaire de taille supérieure à 20 serait sans intérêt.\n",
    "Nous pouvons également remarquer, sur le deuxième plot, que le temps passé pour l'entraînement de l'IA est similaire à une évolution linéaire. Nous pouvons en conclure qu'une vectorisation avec plus de 20 features se révèlerait inutile et demanderait plus de ressource qu'il n'en faut pour construire une IA performante.\n",
    "Ce qui nous amène au troisième et dernier point : la précision chiffrée."
   ]
  },
  {
   "cell_type": "code",
   "execution_count": 13,
   "metadata": {
    "pycharm": {
     "name": "#%%\n"
    }
   },
   "outputs": [
    {
     "name": "stdout",
     "output_type": "stream",
     "text": [
      "0.9943207126948775  à l'itération n° 84\n",
      "0.9935412026726058  à l'itération n°20\n"
     ]
    }
   ],
   "source": [
    "max_accu = max(accu)\n",
    "print(max_accu, \" à l'itération n°\", accu.index(max_accu))\n",
    "\n",
    "print(accu[20], \" à l'itération n°20\")"
   ]
  },
  {
   "cell_type": "markdown",
   "metadata": {},
   "source": [
    "On a donc, à l'aide de la régression logistique, établir une précision maximale au tour de boucle n°84, en atteignant 99,43%. Cependant, comme nous l'avons vu, cette précision est très peu fluctuante lorsqu'on dépasse 20, indice pour lequel la précision a atteint 99.35%, très proche du maximum de la liste."
   ]
  }
 ],
 "metadata": {
  "kernel_info": {
   "name": "python3-azureml"
  },
  "kernelspec": {
   "display_name": "Python 3 (ipykernel)",
   "language": "python",
   "name": "python3"
  },
  "language_info": {
   "codemirror_mode": {
    "name": "ipython",
    "version": 3
   },
   "file_extension": ".py",
   "mimetype": "text/x-python",
   "name": "python",
   "nbconvert_exporter": "python",
   "pygments_lexer": "ipython3",
   "version": "3.9.9"
  },
  "microsoft": {
   "host": {
    "AzureML": {
     "notebookHasBeenCompleted": true
    }
   }
  },
  "nteract": {
   "version": "nteract-front-end@1.0.0"
  }
 },
 "nbformat": 4,
 "nbformat_minor": 1
}